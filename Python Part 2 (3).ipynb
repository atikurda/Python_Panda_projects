{
 "cells": [
  {
   "cell_type": "markdown",
   "id": "3084d58b",
   "metadata": {},
   "source": [
    "## Comparison Operators"
   ]
  },
  {
   "cell_type": "code",
   "execution_count": 1,
   "id": "0085fa8d",
   "metadata": {},
   "outputs": [
    {
     "ename": "SyntaxError",
     "evalue": "expression cannot contain assignment, perhaps you meant \"==\"? (3634173490.py, line 1)",
     "output_type": "error",
     "traceback": [
      "\u001b[1;36m  File \u001b[1;32m\"C:\\Users\\yusufs\\AppData\\Local\\Temp\\ipykernel_18348\\3634173490.py\"\u001b[1;36m, line \u001b[1;32m1\u001b[0m\n\u001b[1;33m    print(2=3)\u001b[0m\n\u001b[1;37m          ^\u001b[0m\n\u001b[1;31mSyntaxError\u001b[0m\u001b[1;31m:\u001b[0m expression cannot contain assignment, perhaps you meant \"==\"?\n"
     ]
    }
   ],
   "source": [
    "print(2=3)"
   ]
  },
  {
   "cell_type": "code",
   "execution_count": 2,
   "id": "59df0e4b",
   "metadata": {},
   "outputs": [
    {
     "name": "stdout",
     "output_type": "stream",
     "text": [
      "False\n"
     ]
    }
   ],
   "source": [
    "print(2==3)"
   ]
  },
  {
   "cell_type": "code",
   "execution_count": 3,
   "id": "a93ec307",
   "metadata": {},
   "outputs": [
    {
     "name": "stdout",
     "output_type": "stream",
     "text": [
      "True\n"
     ]
    }
   ],
   "source": [
    "print(2==2)"
   ]
  },
  {
   "cell_type": "code",
   "execution_count": 6,
   "id": "f8ae0404",
   "metadata": {},
   "outputs": [
    {
     "name": "stdout",
     "output_type": "stream",
     "text": [
      "True\n",
      "False\n",
      "False\n"
     ]
    }
   ],
   "source": [
    "my_number = 60\n",
    "print(my_number==60)\n",
    "print(my_number==62)"
   ]
  },
  {
   "cell_type": "code",
   "execution_count": 7,
   "id": "c6b7d4bb",
   "metadata": {},
   "outputs": [
    {
     "name": "stdout",
     "output_type": "stream",
     "text": [
      "False\n"
     ]
    }
   ],
   "source": [
    "print(my_number>60)"
   ]
  },
  {
   "cell_type": "code",
   "execution_count": 8,
   "id": "f40535b7",
   "metadata": {},
   "outputs": [
    {
     "name": "stdout",
     "output_type": "stream",
     "text": [
      "True\n"
     ]
    }
   ],
   "source": [
    "print(my_number>59)"
   ]
  },
  {
   "cell_type": "code",
   "execution_count": 9,
   "id": "30f90294",
   "metadata": {},
   "outputs": [
    {
     "name": "stdout",
     "output_type": "stream",
     "text": [
      "True\n"
     ]
    }
   ],
   "source": [
    "print(my_number<96)"
   ]
  },
  {
   "cell_type": "code",
   "execution_count": 10,
   "id": "7ff877f2",
   "metadata": {},
   "outputs": [
    {
     "name": "stdout",
     "output_type": "stream",
     "text": [
      "True\n"
     ]
    }
   ],
   "source": [
    "print(my_number>=60)"
   ]
  },
  {
   "cell_type": "code",
   "execution_count": 15,
   "id": "a8b9beed",
   "metadata": {},
   "outputs": [
    {
     "name": "stdout",
     "output_type": "stream",
     "text": [
      "True\n"
     ]
    }
   ],
   "source": [
    "print(my_number<=60)"
   ]
  },
  {
   "cell_type": "code",
   "execution_count": 13,
   "id": "d34e03ff",
   "metadata": {},
   "outputs": [
    {
     "name": "stdout",
     "output_type": "stream",
     "text": [
      "False\n"
     ]
    }
   ],
   "source": [
    "temperature = 19\n",
    "print(temperature>20)"
   ]
  },
  {
   "cell_type": "markdown",
   "id": "2c3c759e",
   "metadata": {},
   "source": [
    "#### not equal operator"
   ]
  },
  {
   "cell_type": "code",
   "execution_count": 16,
   "id": "92e1c94a",
   "metadata": {},
   "outputs": [
    {
     "name": "stdout",
     "output_type": "stream",
     "text": [
      "True\n"
     ]
    }
   ],
   "source": [
    "print(2 != 3)"
   ]
  },
  {
   "cell_type": "code",
   "execution_count": 17,
   "id": "df218ecd",
   "metadata": {},
   "outputs": [
    {
     "name": "stdout",
     "output_type": "stream",
     "text": [
      "True\n"
     ]
    }
   ],
   "source": [
    "print(temperature != 20)"
   ]
  },
  {
   "cell_type": "code",
   "execution_count": 18,
   "id": "f2caef06",
   "metadata": {},
   "outputs": [
    {
     "name": "stdout",
     "output_type": "stream",
     "text": [
      "False\n"
     ]
    }
   ],
   "source": [
    "print(temperature != 19)"
   ]
  },
  {
   "cell_type": "markdown",
   "id": "ef1fe889",
   "metadata": {},
   "source": [
    "##### Exercise: Take two number from a user, compare and return result. "
   ]
  },
  {
   "cell_type": "code",
   "execution_count": 23,
   "id": "51127302",
   "metadata": {},
   "outputs": [
    {
     "name": "stdout",
     "output_type": "stream",
     "text": [
      "Please enter a number:25\n",
      "Please enter a number:21\n",
      "25.0 is greater than 21.0 True\n",
      "25.0 is less than 21.0 False\n",
      "25.0 is equal to 21.0 False\n"
     ]
    }
   ],
   "source": [
    "number1 = float(input(\"Please enter a number:\"))\n",
    "number2 = float(input(\"Please enter a number:\"))\n",
    "print(number1, \"is greater than\", number2, number1>number2)\n",
    "print(number1, \"is less than\", number2, number1<number2)\n",
    "print(number1, \"is equal to\", number2, number1==number2)"
   ]
  },
  {
   "cell_type": "markdown",
   "id": "4ca42ba4",
   "metadata": {},
   "source": [
    "## If Statement"
   ]
  },
  {
   "cell_type": "code",
   "execution_count": 44,
   "id": "40c10a4a",
   "metadata": {},
   "outputs": [
    {
     "name": "stdout",
     "output_type": "stream",
     "text": [
      "Please enter a number:25\n",
      "Please enter a number:21\n"
     ]
    }
   ],
   "source": [
    "number1 = float(input(\"Please enter a number:\"))\n",
    "number2 = float(input(\"Please enter a number:\"))\n",
    "\n",
    "if number2>number1:\n",
    "    print(number2, \"is greater than\", number1)"
   ]
  },
  {
   "cell_type": "code",
   "execution_count": 32,
   "id": "1643008d",
   "metadata": {},
   "outputs": [
    {
     "name": "stdout",
     "output_type": "stream",
     "text": [
      "Please enter a number:25\n",
      "Please enter a number:21\n",
      "21.0 is not greater than 25.0\n"
     ]
    }
   ],
   "source": [
    "number1 = float(input(\"Please enter a number:\"))\n",
    "number2 = float(input(\"Please enter a number:\"))\n",
    "\n",
    "if number2>number1:\n",
    "    print(number2, \"is greater than\", number1)\n",
    "else:\n",
    "    print(number2, \"is not greater than\", number1)\n",
    "    "
   ]
  },
  {
   "cell_type": "code",
   "execution_count": 38,
   "id": "a770e5f3",
   "metadata": {},
   "outputs": [
    {
     "name": "stdout",
     "output_type": "stream",
     "text": [
      "Enter the first number: 21\n",
      "Enter the second number: 25\n",
      "The larger number is: 25\n"
     ]
    }
   ],
   "source": [
    "# Read two numbers\n",
    "number1 = int(input(\"Enter the first number: \"))\n",
    "number2 = int(input(\"Enter the second number: \"))\n",
    "\n",
    "# Choose the larger number\n",
    "if number1 > number2:\n",
    "    larger_number = number1\n",
    "else:\n",
    "    larger_number = number2\n",
    "\n",
    "# Print the result\n",
    "print(\"The larger number is:\", larger_number)\n"
   ]
  },
  {
   "cell_type": "code",
   "execution_count": 43,
   "id": "c65b0620",
   "metadata": {},
   "outputs": [
    {
     "name": "stdout",
     "output_type": "stream",
     "text": [
      "Enter the first number: 24\n",
      "Enter the second number: 23\n",
      "The larger number is: 24\n"
     ]
    }
   ],
   "source": [
    "# Read two numbers\n",
    "number1 = int(input(\"Enter the first number: \"))\n",
    "number2 = int(input(\"Enter the second number: \"))\n",
    "\n",
    "# Choose the larger number\n",
    "if number1 > number2:\n",
    "    print(\"The larger number is:\", number1)\n",
    "\n",
    "elif number2 > number1:\n",
    "    print(\"The larger number is:\", number2) \n",
    "\n",
    "#elif :\n",
    "#elif:\n",
    "\n",
    "else:\n",
    "    print(number1, \"is equal to\", number2)\n"
   ]
  },
  {
   "cell_type": "markdown",
   "id": "89bca2d5",
   "metadata": {},
   "source": [
    "You can add more elif conditions. But only 1 \"if\" and 1 \"else\"."
   ]
  },
  {
   "cell_type": "markdown",
   "id": "887faebb",
   "metadata": {},
   "source": [
    "#### Python Program to Check if a Number is Positive, Negative or Zero:\n"
   ]
  },
  {
   "cell_type": "code",
   "execution_count": 1,
   "id": "9d39b6c5",
   "metadata": {},
   "outputs": [
    {
     "name": "stdout",
     "output_type": "stream",
     "text": [
      "Enter a number: 5\n",
      "The number is positive.\n"
     ]
    }
   ],
   "source": [
    "num = float(input(\"Enter a number: \"))\n",
    "\n",
    "\n",
    "if num > 0:\n",
    "    print(\"The number is positive.\")\n",
    "elif num < 0:\n",
    "    print(\"The number is negative.\")\n",
    "else:\n",
    "    print(\"The number is zero.\")"
   ]
  },
  {
   "cell_type": "markdown",
   "id": "4168b864",
   "metadata": {},
   "source": [
    "### While Loop"
   ]
  },
  {
   "cell_type": "code",
   "execution_count": 64,
   "id": "a05e623d",
   "metadata": {},
   "outputs": [
    {
     "name": "stdout",
     "output_type": "stream",
     "text": [
      "1\n",
      "2\n",
      "3\n",
      "4\n",
      "5\n"
     ]
    }
   ],
   "source": [
    "i = 1\n",
    "while i<6:\n",
    "    print(i)\n",
    "    i +=1"
   ]
  },
  {
   "cell_type": "markdown",
   "id": "4cd05416",
   "metadata": {},
   "source": [
    "Write a code to print all even numbers from 0 to 100."
   ]
  },
  {
   "cell_type": "code",
   "execution_count": 65,
   "id": "8e484ac7",
   "metadata": {
    "scrolled": true
   },
   "outputs": [
    {
     "name": "stdout",
     "output_type": "stream",
     "text": [
      "0\n",
      "2\n",
      "4\n",
      "6\n",
      "8\n",
      "10\n",
      "12\n",
      "14\n",
      "16\n",
      "18\n",
      "20\n",
      "22\n",
      "24\n",
      "26\n",
      "28\n",
      "30\n",
      "32\n",
      "34\n",
      "36\n",
      "38\n",
      "40\n",
      "42\n",
      "44\n",
      "46\n",
      "48\n",
      "50\n",
      "52\n",
      "54\n",
      "56\n",
      "58\n",
      "60\n",
      "62\n",
      "64\n",
      "66\n",
      "68\n",
      "70\n",
      "72\n",
      "74\n",
      "76\n",
      "78\n",
      "80\n",
      "82\n",
      "84\n",
      "86\n",
      "88\n",
      "90\n",
      "92\n",
      "94\n",
      "96\n",
      "98\n",
      "100\n"
     ]
    }
   ],
   "source": [
    "my_number = 0\n",
    "while my_number<=100:\n",
    "    print(my_number)\n",
    "    my_number +=2 #my_number = my_number +2 "
   ]
  },
  {
   "cell_type": "markdown",
   "id": "26644273",
   "metadata": {},
   "source": [
    "Write a code to print all number from 0 to 100 which divisible by 7. Hint: use if statement"
   ]
  },
  {
   "cell_type": "code",
   "execution_count": 4,
   "id": "83d8c3fc",
   "metadata": {},
   "outputs": [
    {
     "name": "stdout",
     "output_type": "stream",
     "text": [
      "0\n",
      "7\n",
      "14\n",
      "21\n",
      "28\n",
      "35\n",
      "42\n",
      "49\n",
      "56\n",
      "63\n",
      "70\n",
      "77\n",
      "84\n",
      "91\n",
      "98\n"
     ]
    }
   ],
   "source": [
    "my_number = 0\n",
    "while my_number<=100:\n",
    "    if my_number%7 == 0: \n",
    "        print(my_number)\n",
    "    my_number +=1"
   ]
  },
  {
   "cell_type": "code",
   "execution_count": 13,
   "id": "02b0d360",
   "metadata": {},
   "outputs": [
    {
     "name": "stdout",
     "output_type": "stream",
     "text": [
      "0\n",
      "15\n",
      "30\n",
      "45\n",
      "60\n",
      "75\n",
      "90\n"
     ]
    }
   ],
   "source": [
    "my_number = 0\n",
    "while my_number<=100:\n",
    "    if my_number%15 == 0: \n",
    "        print(my_number)\n",
    "    my_number +=1"
   ]
  },
  {
   "cell_type": "code",
   "execution_count": 5,
   "id": "720208ca",
   "metadata": {},
   "outputs": [
    {
     "name": "stdout",
     "output_type": "stream",
     "text": [
      "2\n",
      "4\n",
      "6\n",
      "8\n",
      "10\n"
     ]
    }
   ],
   "source": [
    "x = 1\n",
    "while x<11:\n",
    "    if x%2 == 0: \n",
    "        print(x)\n",
    "    x += 1\n"
   ]
  },
  {
   "cell_type": "code",
   "execution_count": null,
   "id": "6eae8d25",
   "metadata": {},
   "outputs": [],
   "source": []
  },
  {
   "cell_type": "code",
   "execution_count": null,
   "id": "9399b5c6",
   "metadata": {},
   "outputs": [],
   "source": [
    "i = 1\n",
    "while i < 15:\n",
    "  print(i)\n",
    "  if (i == 7):\n",
    "    break\n",
    "  i += 3\n"
   ]
  },
  {
   "cell_type": "code",
   "execution_count": null,
   "id": "cbf60f46",
   "metadata": {},
   "outputs": [],
   "source": [
    "x = 1\n",
    "while x < 11:\n",
    "  print(x)\n",
    "  if (x == 11):\n",
    "    break\n",
    "  i += 3\n"
   ]
  },
  {
   "cell_type": "code",
   "execution_count": null,
   "id": "53b53783",
   "metadata": {},
   "outputs": [],
   "source": []
  },
  {
   "cell_type": "code",
   "execution_count": null,
   "id": "cf41f7d7",
   "metadata": {},
   "outputs": [],
   "source": []
  }
 ],
 "metadata": {
  "kernelspec": {
   "display_name": "Python 3 (ipykernel)",
   "language": "python",
   "name": "python3"
  },
  "language_info": {
   "codemirror_mode": {
    "name": "ipython",
    "version": 3
   },
   "file_extension": ".py",
   "mimetype": "text/x-python",
   "name": "python",
   "nbconvert_exporter": "python",
   "pygments_lexer": "ipython3",
   "version": "3.11.3"
  }
 },
 "nbformat": 4,
 "nbformat_minor": 5
}
