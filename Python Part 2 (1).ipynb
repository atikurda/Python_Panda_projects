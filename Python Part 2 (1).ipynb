{
 "cells": [
  {
   "cell_type": "markdown",
   "id": "3084d58b",
   "metadata": {},
   "source": [
    "## Comparison Operators"
   ]
  },
  {
   "cell_type": "code",
   "execution_count": 1,
   "id": "0085fa8d",
   "metadata": {},
   "outputs": [
    {
     "ename": "SyntaxError",
     "evalue": "expression cannot contain assignment, perhaps you meant \"==\"? (3634173490.py, line 1)",
     "output_type": "error",
     "traceback": [
      "\u001b[1;36m  File \u001b[1;32m\"C:\\Users\\yusufs\\AppData\\Local\\Temp\\ipykernel_18348\\3634173490.py\"\u001b[1;36m, line \u001b[1;32m1\u001b[0m\n\u001b[1;33m    print(2=3)\u001b[0m\n\u001b[1;37m          ^\u001b[0m\n\u001b[1;31mSyntaxError\u001b[0m\u001b[1;31m:\u001b[0m expression cannot contain assignment, perhaps you meant \"==\"?\n"
     ]
    }
   ],
   "source": [
    "print(2=3)"
   ]
  },
  {
   "cell_type": "code",
   "execution_count": 2,
   "id": "59df0e4b",
   "metadata": {},
   "outputs": [
    {
     "name": "stdout",
     "output_type": "stream",
     "text": [
      "False\n"
     ]
    }
   ],
   "source": [
    "print(2==3)"
   ]
  },
  {
   "cell_type": "code",
   "execution_count": 3,
   "id": "a93ec307",
   "metadata": {},
   "outputs": [
    {
     "name": "stdout",
     "output_type": "stream",
     "text": [
      "True\n"
     ]
    }
   ],
   "source": [
    "print(2==2)"
   ]
  },
  {
   "cell_type": "code",
   "execution_count": 6,
   "id": "f8ae0404",
   "metadata": {},
   "outputs": [
    {
     "name": "stdout",
     "output_type": "stream",
     "text": [
      "True\n",
      "False\n",
      "False\n"
     ]
    }
   ],
   "source": [
    "my_number = 60\n",
    "print(my_number==60)\n",
    "print(my_number==62)"
   ]
  },
  {
   "cell_type": "code",
   "execution_count": 7,
   "id": "c6b7d4bb",
   "metadata": {},
   "outputs": [
    {
     "name": "stdout",
     "output_type": "stream",
     "text": [
      "False\n"
     ]
    }
   ],
   "source": [
    "print(my_number>60)"
   ]
  },
  {
   "cell_type": "code",
   "execution_count": 8,
   "id": "f40535b7",
   "metadata": {},
   "outputs": [
    {
     "name": "stdout",
     "output_type": "stream",
     "text": [
      "True\n"
     ]
    }
   ],
   "source": [
    "print(my_number>59)"
   ]
  },
  {
   "cell_type": "code",
   "execution_count": 9,
   "id": "30f90294",
   "metadata": {},
   "outputs": [
    {
     "name": "stdout",
     "output_type": "stream",
     "text": [
      "True\n"
     ]
    }
   ],
   "source": [
    "print(my_number<96)"
   ]
  },
  {
   "cell_type": "code",
   "execution_count": 10,
   "id": "7ff877f2",
   "metadata": {},
   "outputs": [
    {
     "name": "stdout",
     "output_type": "stream",
     "text": [
      "True\n"
     ]
    }
   ],
   "source": [
    "print(my_number>=60)"
   ]
  },
  {
   "cell_type": "code",
   "execution_count": 15,
   "id": "a8b9beed",
   "metadata": {},
   "outputs": [
    {
     "name": "stdout",
     "output_type": "stream",
     "text": [
      "True\n"
     ]
    }
   ],
   "source": [
    "print(my_number<=60)"
   ]
  },
  {
   "cell_type": "code",
   "execution_count": 13,
   "id": "d34e03ff",
   "metadata": {},
   "outputs": [
    {
     "name": "stdout",
     "output_type": "stream",
     "text": [
      "False\n"
     ]
    }
   ],
   "source": [
    "temperature = 19\n",
    "print(temperature>20)"
   ]
  },
  {
   "cell_type": "markdown",
   "id": "2c3c759e",
   "metadata": {},
   "source": [
    "#### not equal operator"
   ]
  },
  {
   "cell_type": "code",
   "execution_count": 16,
   "id": "92e1c94a",
   "metadata": {},
   "outputs": [
    {
     "name": "stdout",
     "output_type": "stream",
     "text": [
      "True\n"
     ]
    }
   ],
   "source": [
    "print(2 != 3)"
   ]
  },
  {
   "cell_type": "code",
   "execution_count": 17,
   "id": "df218ecd",
   "metadata": {},
   "outputs": [
    {
     "name": "stdout",
     "output_type": "stream",
     "text": [
      "True\n"
     ]
    }
   ],
   "source": [
    "print(temperature != 20)"
   ]
  },
  {
   "cell_type": "code",
   "execution_count": 18,
   "id": "f2caef06",
   "metadata": {},
   "outputs": [
    {
     "name": "stdout",
     "output_type": "stream",
     "text": [
      "False\n"
     ]
    }
   ],
   "source": [
    "print(temperature != 19)"
   ]
  },
  {
   "cell_type": "markdown",
   "id": "ef1fe889",
   "metadata": {},
   "source": [
    "##### Exercise: Take two number from a user, compare and return result. "
   ]
  },
  {
   "cell_type": "code",
   "execution_count": 23,
   "id": "51127302",
   "metadata": {},
   "outputs": [
    {
     "name": "stdout",
     "output_type": "stream",
     "text": [
      "Please enter a number:25\n",
      "Please enter a number:21\n",
      "25.0 is greater than 21.0 True\n",
      "25.0 is less than 21.0 False\n",
      "25.0 is equal to 21.0 False\n"
     ]
    }
   ],
   "source": [
    "number1 = float(input(\"Please enter a number:\"))\n",
    "number2 = float(input(\"Please enter a number:\"))\n",
    "print(number1, \"is greater than\", number2, number1>number2)\n",
    "print(number1, \"is less than\", number2, number1<number2)\n",
    "print(number1, \"is equal to\", number2, number1==number2)"
   ]
  },
  {
   "cell_type": "markdown",
   "id": "4ca42ba4",
   "metadata": {},
   "source": [
    "## If Statement"
   ]
  },
  {
   "cell_type": "code",
   "execution_count": 44,
   "id": "40c10a4a",
   "metadata": {},
   "outputs": [
    {
     "name": "stdout",
     "output_type": "stream",
     "text": [
      "Please enter a number:25\n",
      "Please enter a number:21\n"
     ]
    }
   ],
   "source": [
    "number1 = float(input(\"Please enter a number:\"))\n",
    "number2 = float(input(\"Please enter a number:\"))\n",
    "\n",
    "if number2>number1:\n",
    "    print(number2, \"is greater than\", number1)"
   ]
  },
  {
   "cell_type": "code",
   "execution_count": 32,
   "id": "1643008d",
   "metadata": {},
   "outputs": [
    {
     "name": "stdout",
     "output_type": "stream",
     "text": [
      "Please enter a number:25\n",
      "Please enter a number:21\n",
      "21.0 is not greater than 25.0\n"
     ]
    }
   ],
   "source": [
    "number1 = float(input(\"Please enter a number:\"))\n",
    "number2 = float(input(\"Please enter a number:\"))\n",
    "\n",
    "if number2>number1:\n",
    "    print(number2, \"is greater than\", number1)\n",
    "else:\n",
    "    print(number2, \"is not greater than\", number1)\n",
    "    "
   ]
  },
  {
   "cell_type": "code",
   "execution_count": 38,
   "id": "a770e5f3",
   "metadata": {},
   "outputs": [
    {
     "name": "stdout",
     "output_type": "stream",
     "text": [
      "Enter the first number: 21\n",
      "Enter the second number: 25\n",
      "The larger number is: 25\n"
     ]
    }
   ],
   "source": [
    "# Read two numbers\n",
    "number1 = int(input(\"Enter the first number: \"))\n",
    "number2 = int(input(\"Enter the second number: \"))\n",
    "\n",
    "# Choose the larger number\n",
    "if number1 > number2:\n",
    "    larger_number = number1\n",
    "else:\n",
    "    larger_number = number2\n",
    "\n",
    "# Print the result\n",
    "print(\"The larger number is:\", larger_number)\n"
   ]
  },
  {
   "cell_type": "code",
   "execution_count": 43,
   "id": "c65b0620",
   "metadata": {},
   "outputs": [
    {
     "name": "stdout",
     "output_type": "stream",
     "text": [
      "Enter the first number: 24\n",
      "Enter the second number: 23\n",
      "The larger number is: 24\n"
     ]
    }
   ],
   "source": [
    "# Read two numbers\n",
    "number1 = int(input(\"Enter the first number: \"))\n",
    "number2 = int(input(\"Enter the second number: \"))\n",
    "\n",
    "# Choose the larger number\n",
    "if number1 > number2:\n",
    "    print(\"The larger number is:\", number1)\n",
    "\n",
    "elif number2 > number1:\n",
    "    print(\"The larger number is:\", number2) \n",
    "\n",
    "#elif :\n",
    "#elif:\n",
    "\n",
    "else:\n",
    "    print(number1, \"is equal to\", number2)\n"
   ]
  },
  {
   "cell_type": "markdown",
   "id": "89bca2d5",
   "metadata": {},
   "source": [
    "You can add more elif conditions. But only 1 \"if\" and 1 \"else\"."
   ]
  },
  {
   "cell_type": "markdown",
   "id": "887faebb",
   "metadata": {},
   "source": [
    "#### Python Program to Check if a Number is Positive, Negative or Zero:\n"
   ]
  },
  {
   "cell_type": "code",
   "execution_count": 63,
   "id": "9d39b6c5",
   "metadata": {},
   "outputs": [
    {
     "name": "stdout",
     "output_type": "stream",
     "text": [
      "Enter a number: +0\n",
      "The number is zero.\n"
     ]
    }
   ],
   "source": [
    "num = float(input(\"Enter a number: \"))\n",
    "\n",
    "\n",
    "if num > 0:\n",
    "    print(\"The number is positive.\")\n",
    "elif num < 0:\n",
    "    print(\"The number is negative.\")\n",
    "else:\n",
    "    print(\"The number is zero.\")"
   ]
  },
  {
   "cell_type": "markdown",
   "id": "4168b864",
   "metadata": {},
   "source": [
    "### While Loop"
   ]
  },
  {
   "cell_type": "code",
   "execution_count": 64,
   "id": "a05e623d",
   "metadata": {},
   "outputs": [
    {
     "name": "stdout",
     "output_type": "stream",
     "text": [
      "1\n",
      "2\n",
      "3\n",
      "4\n",
      "5\n"
     ]
    }
   ],
   "source": [
    "i = 1\n",
    "while i<6:\n",
    "    print(i)\n",
    "    i +=1"
   ]
  },
  {
   "cell_type": "markdown",
   "id": "4cd05416",
   "metadata": {},
   "source": [
    "Write a code to print all even numbers from 0 to 100."
   ]
  },
  {
   "cell_type": "code",
   "execution_count": 65,
   "id": "8e484ac7",
   "metadata": {
    "scrolled": true
   },
   "outputs": [
    {
     "name": "stdout",
     "output_type": "stream",
     "text": [
      "0\n",
      "2\n",
      "4\n",
      "6\n",
      "8\n",
      "10\n",
      "12\n",
      "14\n",
      "16\n",
      "18\n",
      "20\n",
      "22\n",
      "24\n",
      "26\n",
      "28\n",
      "30\n",
      "32\n",
      "34\n",
      "36\n",
      "38\n",
      "40\n",
      "42\n",
      "44\n",
      "46\n",
      "48\n",
      "50\n",
      "52\n",
      "54\n",
      "56\n",
      "58\n",
      "60\n",
      "62\n",
      "64\n",
      "66\n",
      "68\n",
      "70\n",
      "72\n",
      "74\n",
      "76\n",
      "78\n",
      "80\n",
      "82\n",
      "84\n",
      "86\n",
      "88\n",
      "90\n",
      "92\n",
      "94\n",
      "96\n",
      "98\n",
      "100\n"
     ]
    }
   ],
   "source": [
    "my_number = 0\n",
    "while my_number<=100:\n",
    "    print(my_number)\n",
    "    my_number +=2 #my_number = my_number +2 "
   ]
  },
  {
   "cell_type": "markdown",
   "id": "26644273",
   "metadata": {},
   "source": [
    "Write a code to print all number from 0 to 100 which divisible by 7. Hint: use if statement"
   ]
  },
  {
   "cell_type": "code",
   "execution_count": 30,
   "id": "83d8c3fc",
   "metadata": {},
   "outputs": [
    {
     "name": "stdout",
     "output_type": "stream",
     "text": [
      "0\n",
      "7\n",
      "14\n",
      "21\n",
      "28\n",
      "35\n",
      "42\n",
      "49\n",
      "56\n",
      "63\n",
      "70\n",
      "77\n",
      "84\n",
      "91\n",
      "98\n"
     ]
    }
   ],
   "source": [
    "my_number = 0\n",
    "while my_number<=100:\n",
    "    if my_number%7 == 0: \n",
    "        print(my_number)\n",
    "    my_number +=1"
   ]
  },
  {
   "cell_type": "code",
   "execution_count": null,
   "id": "360245bb",
   "metadata": {},
   "outputs": [],
   "source": []
  },
  {
   "cell_type": "markdown",
   "id": "297c75d2",
   "metadata": {},
   "source": [
    "## For Loop"
   ]
  },
  {
   "cell_type": "code",
   "execution_count": 20,
   "id": "5b65ef9f",
   "metadata": {},
   "outputs": [
    {
     "name": "stdout",
     "output_type": "stream",
     "text": [
      "banana,apple\n"
     ]
    }
   ],
   "source": [
    "print(\"banana\", \"apple\", sep=\",\")"
   ]
  },
  {
   "cell_type": "code",
   "execution_count": 21,
   "id": "39001261",
   "metadata": {},
   "outputs": [
    {
     "name": "stdout",
     "output_type": "stream",
     "text": [
      "apple.banana.berry."
     ]
    }
   ],
   "source": [
    "fruits = [\"apple\", \"banana\", \"berry\"]\n",
    "for x in fruits:\n",
    "    print(x, end=\".\")"
   ]
  },
  {
   "cell_type": "code",
   "execution_count": 4,
   "id": "9399b5c6",
   "metadata": {},
   "outputs": [
    {
     "name": "stdout",
     "output_type": "stream",
     "text": [
      "b\n",
      "a\n",
      "n\n",
      "a\n",
      "n\n",
      "a\n"
     ]
    }
   ],
   "source": [
    "for x in \"banana\":\n",
    "    print(x)"
   ]
  },
  {
   "cell_type": "code",
   "execution_count": 7,
   "id": "cbf60f46",
   "metadata": {},
   "outputs": [
    {
     "name": "stdout",
     "output_type": "stream",
     "text": [
      "Y-u-s-u-f-"
     ]
    }
   ],
   "source": [
    "for x in \"Yusuf\":\n",
    "    print(x, end=\"-\")"
   ]
  },
  {
   "cell_type": "code",
   "execution_count": 8,
   "id": "861a5268",
   "metadata": {},
   "outputs": [
    {
     "ename": "TypeError",
     "evalue": "'int' object is not iterable",
     "output_type": "error",
     "traceback": [
      "\u001b[1;31m---------------------------------------------------------------------------\u001b[0m",
      "\u001b[1;31mTypeError\u001b[0m                                 Traceback (most recent call last)",
      "\u001b[1;32m~\\AppData\\Local\\Temp\\ipykernel_19132\\3246941480.py\u001b[0m in \u001b[0;36m<module>\u001b[1;34m\u001b[0m\n\u001b[1;32m----> 1\u001b[1;33m \u001b[1;32mfor\u001b[0m \u001b[0mx\u001b[0m \u001b[1;32min\u001b[0m \u001b[1;36m12345\u001b[0m\u001b[1;33m:\u001b[0m\u001b[1;33m\u001b[0m\u001b[1;33m\u001b[0m\u001b[0m\n\u001b[0m\u001b[0;32m      2\u001b[0m     \u001b[0mprint\u001b[0m\u001b[1;33m(\u001b[0m\u001b[0mx\u001b[0m\u001b[1;33m+\u001b[0m\u001b[1;36m1\u001b[0m\u001b[1;33m)\u001b[0m\u001b[1;33m\u001b[0m\u001b[1;33m\u001b[0m\u001b[0m\n",
      "\u001b[1;31mTypeError\u001b[0m: 'int' object is not iterable"
     ]
    }
   ],
   "source": [
    "for x in 12345:\n",
    "    print(x+1)"
   ]
  },
  {
   "cell_type": "code",
   "execution_count": 34,
   "id": "e25c3209",
   "metadata": {},
   "outputs": [
    {
     "name": "stdout",
     "output_type": "stream",
     "text": [
      "Numbers from 1 to 50:\n",
      "1 2 3 4 5 6 7 8 9 10 11 12 13 14 15 16 17 18 19 20 21 22 23 24 25 26 27 28 29 30 31 32 33 34 35 36 37 38 39 40 41 42 43 44 45 46 47 48 49 50 "
     ]
    }
   ],
   "source": [
    "print(\"Numbers from 1 to 50:\") \n",
    "for n in range(1, 51): \n",
    "    print(n, end=\" \")"
   ]
  },
  {
   "cell_type": "markdown",
   "id": "fc4e05e3",
   "metadata": {},
   "source": [
    "Write a code to print all even numbers from 0 to 100. (use step argument)"
   ]
  },
  {
   "cell_type": "code",
   "execution_count": 41,
   "id": "c1a36f39",
   "metadata": {},
   "outputs": [
    {
     "name": "stdout",
     "output_type": "stream",
     "text": [
      "Even numbers from 0 to 100:\n",
      "0 2 4 6 8 10 12 14 16 18 20 22 24 26 28 30 32 34 36 38 40 42 44 46 48 50 52 54 56 58 60 62 64 66 68 70 72 74 76 78 80 82 84 86 88 90 92 94 96 98 100 "
     ]
    }
   ],
   "source": [
    "print(\"Even numbers from 0 to 100:\") \n",
    "for n in range(0, 101, 2): \n",
    "    print(n, end=\" \")"
   ]
  },
  {
   "cell_type": "markdown",
   "id": "97a7791f",
   "metadata": {},
   "source": [
    "Write a code to print all number from 0 to 100 which divisible by 7"
   ]
  },
  {
   "cell_type": "code",
   "execution_count": 39,
   "id": "3cbd6b89",
   "metadata": {},
   "outputs": [
    {
     "name": "stdout",
     "output_type": "stream",
     "text": [
      "Multiples of 7 from 0 to 100:\n",
      "0 7 14 21 28 35 42 49 56 63 70 77 84 91 98 "
     ]
    }
   ],
   "source": [
    "print(\"Multiples of 7 from 0 to 100:\") \n",
    "for n in range(0, 101, 7): \n",
    "    print(n, end=\" \")"
   ]
  },
  {
   "cell_type": "markdown",
   "id": "9576d637",
   "metadata": {},
   "source": [
    "Write a code to print all odd numbers from 0 to 100. (use step argument)"
   ]
  },
  {
   "cell_type": "code",
   "execution_count": 37,
   "id": "556a0938",
   "metadata": {},
   "outputs": [
    {
     "name": "stdout",
     "output_type": "stream",
     "text": [
      "Odd numbers from 1 to 100:\n",
      "1 3 5 7 9 11 13 15 17 19 21 23 25 27 29 31 33 35 37 39 41 43 45 47 49 51 53 55 57 59 61 63 65 67 69 71 73 75 77 79 81 83 85 87 89 91 93 95 97 99 "
     ]
    }
   ],
   "source": [
    "print(\"Odd numbers from 1 to 100:\") \n",
    "for n in range(1, 101, 2):\n",
    "    print(n, end=\" \")"
   ]
  },
  {
   "attachments": {
    "image.png": {
     "image/png": "[encoded data removed]"
    }
   },
   "cell_type": "markdown",
   "id": "a4d6fe03",
   "metadata": {},
   "source": [
    "![image.png](attachment:image.png)"
   ]
  },
  {
   "cell_type": "code",
   "execution_count": 47,
   "id": "cf0fcb56",
   "metadata": {
    "scrolled": true
   },
   "outputs": [
    {
     "name": "stdout",
     "output_type": "stream",
     "text": [
      "FizzBuzz\n",
      "1\n",
      "2\n",
      "Fizz\n",
      "4\n",
      "Buzz\n",
      "Fizz\n",
      "7\n",
      "8\n",
      "Fizz\n",
      "Buzz\n",
      "11\n",
      "Fizz\n",
      "13\n",
      "14\n",
      "FizzBuzz\n",
      "16\n",
      "17\n",
      "Fizz\n",
      "19\n",
      "Buzz\n",
      "Fizz\n",
      "22\n",
      "23\n",
      "Fizz\n",
      "Buzz\n",
      "26\n",
      "Fizz\n",
      "28\n",
      "29\n",
      "FizzBuzz\n",
      "31\n",
      "32\n",
      "Fizz\n",
      "34\n",
      "Buzz\n",
      "Fizz\n",
      "37\n",
      "38\n",
      "Fizz\n",
      "Buzz\n",
      "41\n",
      "Fizz\n",
      "43\n",
      "44\n",
      "FizzBuzz\n",
      "46\n",
      "47\n",
      "Fizz\n",
      "49\n",
      "Buzz\n",
      "Fizz\n",
      "52\n",
      "53\n",
      "Fizz\n",
      "Buzz\n",
      "56\n",
      "Fizz\n",
      "58\n",
      "59\n",
      "FizzBuzz\n",
      "61\n",
      "62\n",
      "Fizz\n",
      "64\n",
      "Buzz\n",
      "Fizz\n",
      "67\n",
      "68\n",
      "Fizz\n",
      "Buzz\n",
      "71\n",
      "Fizz\n",
      "73\n",
      "74\n",
      "FizzBuzz\n",
      "76\n",
      "77\n",
      "Fizz\n",
      "79\n",
      "Buzz\n",
      "Fizz\n",
      "82\n",
      "83\n",
      "Fizz\n",
      "Buzz\n",
      "86\n",
      "Fizz\n",
      "88\n",
      "89\n",
      "FizzBuzz\n",
      "91\n",
      "92\n",
      "Fizz\n",
      "94\n",
      "Buzz\n",
      "Fizz\n",
      "97\n",
      "98\n",
      "Fizz\n",
      "Buzz\n"
     ]
    }
   ],
   "source": [
    "for n in range(0, 101):\n",
    "    if n % 3 == 0 and n % 5 == 0:\n",
    "        print(\"FizzBuzz\")\n",
    "    elif n % 3 == 0:\n",
    "        print(\"Fizz\")\n",
    "    elif n % 5 == 0:\n",
    "        print(\"Buzz\")\n",
    "    else:\n",
    "        print(n)"
   ]
  },
  {
   "cell_type": "code",
   "execution_count": 50,
   "id": "4e64e97d",
   "metadata": {
    "scrolled": true
   },
   "outputs": [
    {
     "name": "stdout",
     "output_type": "stream",
     "text": [
      "\n",
      " 1 \n",
      " 2 \n",
      " 3 -Fizz\n",
      " 4 \n",
      " 5 -Bizz\n",
      " 6 -Fizz\n",
      " 7 \n",
      " 8 \n",
      " 9 -Fizz\n",
      " 10 -Bizz\n",
      " 11 \n",
      " 12 -Fizz\n",
      " 13 \n",
      " 14 \n",
      " 15 -FizzBuzz\n",
      " 16 \n",
      " 17 \n",
      " 18 -Fizz\n",
      " 19 \n",
      " 20 -Bizz\n",
      " 21 -Fizz\n",
      " 22 \n",
      " 23 \n",
      " 24 -Fizz\n",
      " 25 -Bizz\n",
      " 26 \n",
      " 27 -Fizz\n",
      " 28 \n",
      " 29 \n",
      " 30 -FizzBuzz\n",
      " 31 \n",
      " 32 \n",
      " 33 -Fizz\n",
      " 34 \n",
      " 35 -Bizz\n",
      " 36 -Fizz\n",
      " 37 \n",
      " 38 \n",
      " 39 -Fizz\n",
      " 40 -Bizz\n",
      " 41 \n",
      " 42 -Fizz\n",
      " 43 \n",
      " 44 \n",
      " 45 -FizzBuzz\n",
      " 46 \n",
      " 47 \n",
      " 48 -Fizz\n",
      " 49 \n",
      " 50 -Bizz\n",
      " 51 -Fizz\n",
      " 52 \n",
      " 53 \n",
      " 54 -Fizz\n",
      " 55 -Bizz\n",
      " 56 \n",
      " 57 -Fizz\n",
      " 58 \n",
      " 59 \n",
      " 60 -FizzBuzz\n",
      " 61 \n",
      " 62 \n",
      " 63 -Fizz\n",
      " 64 \n",
      " 65 -Bizz\n",
      " 66 -Fizz\n",
      " 67 \n",
      " 68 \n",
      " 69 -Fizz\n",
      " 70 -Bizz\n",
      " 71 \n",
      " 72 -Fizz\n",
      " 73 \n",
      " 74 \n",
      " 75 -FizzBuzz\n",
      " 76 \n",
      " 77 \n",
      " 78 -Fizz\n",
      " 79 \n",
      " 80 -Bizz\n",
      " 81 -Fizz\n",
      " 82 \n",
      " 83 \n",
      " 84 -Fizz\n",
      " 85 -Bizz\n",
      " 86 \n",
      " 87 -Fizz\n",
      " 88 \n",
      " 89 \n",
      " 90 -FizzBuzz\n",
      " 91 \n",
      " 92 \n",
      " 93 -Fizz\n",
      " 94 \n",
      " 95 -Bizz\n",
      " 96 -Fizz\n",
      " 97 \n",
      " 98 \n",
      " 99 -Fizz\n",
      " 100 -Bizz"
     ]
    }
   ],
   "source": [
    "#Task to print fizz or buzz or fizzbuzz\n",
    " \n",
    "for n in range(1,101):\n",
    "    if n%3==0 and n%5==0:\n",
    "        print(\"\\n\",n,\"-FizzBuzz\", end=\"\")\n",
    "    elif n%3==0:\n",
    "        print(\"\\n\",n,\"-Fizz\",end=\"\")\n",
    "    elif n%5==0:\n",
    "        print(\"\\n\",n,\"-Bizz\",end=\"\")    \n",
    "    else:    \n",
    "        print(\"\\n\",n,end=\" \")"
   ]
  },
  {
   "cell_type": "code",
   "execution_count": 51,
   "id": "da781f0d",
   "metadata": {
    "scrolled": true
   },
   "outputs": [
    {
     "name": "stdout",
     "output_type": "stream",
     "text": [
      "1\n",
      "2\n",
      "Fizz\n",
      "4\n",
      "Buzz\n",
      "Fizz\n",
      "7\n",
      "8\n",
      "Fizz\n",
      "Buzz\n",
      "11\n",
      "Fizz\n",
      "13\n",
      "14\n",
      "FizzBuzz\n",
      "16\n",
      "17\n",
      "Fizz\n",
      "19\n",
      "Buzz\n",
      "Fizz\n",
      "22\n",
      "23\n",
      "Fizz\n",
      "Buzz\n",
      "26\n",
      "Fizz\n",
      "28\n",
      "29\n",
      "FizzBuzz\n",
      "31\n",
      "32\n",
      "Fizz\n",
      "34\n",
      "Buzz\n",
      "Fizz\n",
      "37\n",
      "38\n",
      "Fizz\n",
      "Buzz\n",
      "41\n",
      "Fizz\n",
      "43\n",
      "44\n",
      "FizzBuzz\n",
      "46\n",
      "47\n",
      "Fizz\n",
      "49\n",
      "Buzz\n",
      "Fizz\n",
      "52\n",
      "53\n",
      "Fizz\n",
      "Buzz\n",
      "56\n",
      "Fizz\n",
      "58\n",
      "59\n",
      "FizzBuzz\n",
      "61\n",
      "62\n",
      "Fizz\n",
      "64\n",
      "Buzz\n",
      "Fizz\n",
      "67\n",
      "68\n",
      "Fizz\n",
      "Buzz\n",
      "71\n",
      "Fizz\n",
      "73\n",
      "74\n",
      "FizzBuzz\n",
      "76\n",
      "77\n",
      "Fizz\n",
      "79\n",
      "Buzz\n",
      "Fizz\n",
      "82\n",
      "83\n",
      "Fizz\n",
      "Buzz\n",
      "86\n",
      "Fizz\n",
      "88\n",
      "89\n",
      "FizzBuzz\n",
      "91\n",
      "92\n",
      "Fizz\n",
      "94\n",
      "Buzz\n",
      "Fizz\n",
      "97\n",
      "98\n",
      "Fizz\n",
      "Buzz\n"
     ]
    }
   ],
   "source": [
    "for num in range(1,101):\n",
    "    string = \"\"\n",
    "    if num % 3 == 0:\n",
    "        string = string + \"Fizz\"\n",
    "    if num % 5 == 0:\n",
    "        string = string + \"Buzz\"\n",
    "    if num % 5 != 0 and num % 3 != 0:\n",
    "        string = string + str(num)\n",
    "    print(string)\n"
   ]
  },
  {
   "cell_type": "code",
   "execution_count": null,
   "id": "f9995a87",
   "metadata": {},
   "outputs": [],
   "source": []
  },
  {
   "cell_type": "markdown",
   "id": "c52a1c0c",
   "metadata": {},
   "source": [
    "## Collection Types in Python"
   ]
  },
  {
   "cell_type": "markdown",
   "id": "8354ca3d",
   "metadata": {},
   "source": [
    "### List"
   ]
  },
  {
   "cell_type": "code",
   "execution_count": 54,
   "id": "d42eae30",
   "metadata": {},
   "outputs": [
    {
     "name": "stdout",
     "output_type": "stream",
     "text": [
      "['apple', 'banana', 'cherry']\n",
      "['h', 'a', 'p', 'p', 'y']\n"
     ]
    }
   ],
   "source": [
    "mylist = [\"apple\", \"banana\", \"cherry\"]\n",
    "\n",
    "word = \"happy\"\n",
    "mylist2 = list(word)\n",
    "\n",
    "\n",
    "print(mylist)\n",
    "print(mylist2)"
   ]
  },
  {
   "cell_type": "code",
   "execution_count": 64,
   "id": "5160fd80",
   "metadata": {},
   "outputs": [
    {
     "name": "stdout",
     "output_type": "stream",
     "text": [
      "<class 'list'>\n"
     ]
    }
   ],
   "source": [
    "print(type(mylist))"
   ]
  },
  {
   "cell_type": "code",
   "execution_count": 65,
   "id": "c115b8d5",
   "metadata": {},
   "outputs": [
    {
     "name": "stdout",
     "output_type": "stream",
     "text": [
      "<class 'list'>\n"
     ]
    }
   ],
   "source": [
    "print(type(mylist2))"
   ]
  },
  {
   "cell_type": "code",
   "execution_count": 62,
   "id": "46e292cc",
   "metadata": {},
   "outputs": [
    {
     "ename": "TypeError",
     "evalue": "'int' object is not iterable",
     "output_type": "error",
     "traceback": [
      "\u001b[1;31m---------------------------------------------------------------------------\u001b[0m",
      "\u001b[1;31mTypeError\u001b[0m                                 Traceback (most recent call last)",
      "\u001b[1;32m~\\AppData\\Local\\Temp\\ipykernel_19132\\4067605085.py\u001b[0m in \u001b[0;36m<module>\u001b[1;34m\u001b[0m\n\u001b[0;32m      1\u001b[0m \u001b[0mage\u001b[0m \u001b[1;33m=\u001b[0m \u001b[1;36m32\u001b[0m\u001b[1;33m\u001b[0m\u001b[1;33m\u001b[0m\u001b[0m\n\u001b[1;32m----> 2\u001b[1;33m \u001b[0mmylist3\u001b[0m \u001b[1;33m=\u001b[0m \u001b[0mlist\u001b[0m\u001b[1;33m(\u001b[0m\u001b[0mage\u001b[0m\u001b[1;33m)\u001b[0m\u001b[1;33m\u001b[0m\u001b[1;33m\u001b[0m\u001b[0m\n\u001b[0m",
      "\u001b[1;31mTypeError\u001b[0m: 'int' object is not iterable"
     ]
    }
   ],
   "source": [
    "age = 32\n",
    "mylist3 = list(age)"
   ]
  },
  {
   "cell_type": "code",
   "execution_count": 61,
   "id": "b35e16df",
   "metadata": {},
   "outputs": [
    {
     "name": "stdout",
     "output_type": "stream",
     "text": [
      "<class 'list'>\n"
     ]
    }
   ],
   "source": [
    "age = [32]\n",
    "print(type(age))"
   ]
  },
  {
   "cell_type": "code",
   "execution_count": 70,
   "id": "da2d7bdb",
   "metadata": {
    "scrolled": true
   },
   "outputs": [
    {
     "name": "stdout",
     "output_type": "stream",
     "text": [
      "['Mr.X', 22, 'UK', '12/05/2001', 1.65]\n"
     ]
    }
   ],
   "source": [
    "customer_info = [\"Mr.X\", 22, \"UK\", \"12/05/2001\", 1.65]\n",
    "print(customer_info)"
   ]
  },
  {
   "cell_type": "code",
   "execution_count": 71,
   "id": "593b8aa3",
   "metadata": {},
   "outputs": [
    {
     "data": {
      "text/plain": [
       "['Mr.X', 22, 'UK', '12/05/2001', 1.65]"
      ]
     },
     "execution_count": 71,
     "metadata": {},
     "output_type": "execute_result"
    }
   ],
   "source": [
    "customer_info"
   ]
  },
  {
   "cell_type": "markdown",
   "id": "1884c7ea",
   "metadata": {},
   "source": [
    "#### Indexing List"
   ]
  },
  {
   "cell_type": "code",
   "execution_count": 74,
   "id": "04167aba",
   "metadata": {},
   "outputs": [
    {
     "name": "stdout",
     "output_type": "stream",
     "text": [
      "mylist1[1]:  b\n",
      "mylist2[1:5]:  [2, 3, 4, 5]\n"
     ]
    }
   ],
   "source": [
    "mylist1 = [\"a\", \"b\", 10, 20];\n",
    "\n",
    "mylist2 = [1, 2, 3, 4, 5, 6, 7 ];\n",
    "\n",
    "print(\"mylist1[1]: \", mylist1[1]) \n",
    "\n",
    "print (\"mylist2[1:5]: \", mylist2[1:5])\n"
   ]
  },
  {
   "cell_type": "markdown",
   "id": "ac712576",
   "metadata": {},
   "source": [
    "how to get [2, 3, 4, 5] using negative indexing"
   ]
  },
  {
   "cell_type": "code",
   "execution_count": 80,
   "id": "716e0df9",
   "metadata": {},
   "outputs": [
    {
     "name": "stdout",
     "output_type": "stream",
     "text": [
      "[4, 5]\n"
     ]
    }
   ],
   "source": [
    "print(mylist2[-4:-2])"
   ]
  },
  {
   "cell_type": "markdown",
   "id": "f7ebd029",
   "metadata": {},
   "source": [
    "mylist2 = [1, 2, 3, 4, 5, 6, 7 ];\n",
    "          -7 -6 -5 -4 -3 -2 -1  "
   ]
  },
  {
   "cell_type": "code",
   "execution_count": 84,
   "id": "e21b173d",
   "metadata": {},
   "outputs": [
    {
     "name": "stdout",
     "output_type": "stream",
     "text": [
      "mylist2[1:5]:  [2, 3, 4, 5]\n"
     ]
    }
   ],
   "source": [
    "print (\"mylist2[1:5]: \", mylist2[-6:-2]) #last index in range -2 will not be printed"
   ]
  },
  {
   "cell_type": "code",
   "execution_count": 85,
   "id": "a5c76a1f",
   "metadata": {},
   "outputs": [
    {
     "name": "stdout",
     "output_type": "stream",
     "text": [
      "[30, 40, 50, 60, 70]\n"
     ]
    }
   ],
   "source": [
    "#What will be the output?\n",
    "nums = [10, 20, 30, 40, 50, 60, 70, 80, 90]\n",
    "some_nums = nums[2:7]\n",
    "print(some_nums)"
   ]
  },
  {
   "cell_type": "code",
   "execution_count": 86,
   "id": "3fdf1fe9",
   "metadata": {},
   "outputs": [
    {
     "name": "stdout",
     "output_type": "stream",
     "text": [
      "[10, 20, 30, 40]\n"
     ]
    }
   ],
   "source": [
    "#Complete the code.\n",
    "\n",
    "nums = [10, 20, 30, 40, 50, 60, 70, 80, 90]\n",
    "\n",
    "print(nums[0:4])\n",
    "\n",
    "\n",
    "#Output:\n",
    "#10, 20,30,40\n"
   ]
  },
  {
   "cell_type": "code",
   "execution_count": 90,
   "id": "3a86bad1",
   "metadata": {},
   "outputs": [
    {
     "name": "stdout",
     "output_type": "stream",
     "text": [
      "['apple', 'banana', 'cherry']\n",
      "['apple', 'blackcurrant', 'cherry']\n"
     ]
    }
   ],
   "source": [
    "thislist = [\"apple\", \"banana\", \"cherry\"]\n",
    "\n",
    "print(thislist)\n",
    "\n",
    "thislist[1] = \"blackcurrant\"\n",
    "\n",
    "print(thislist) \n",
    "\n"
   ]
  },
  {
   "cell_type": "code",
   "execution_count": 91,
   "id": "59bcf6f2",
   "metadata": {},
   "outputs": [
    {
     "ename": "IndexError",
     "evalue": "list assignment index out of range",
     "output_type": "error",
     "traceback": [
      "\u001b[1;31m---------------------------------------------------------------------------\u001b[0m",
      "\u001b[1;31mIndexError\u001b[0m                                Traceback (most recent call last)",
      "\u001b[1;32m~\\AppData\\Local\\Temp\\ipykernel_19132\\617241087.py\u001b[0m in \u001b[0;36m<module>\u001b[1;34m\u001b[0m\n\u001b[1;32m----> 1\u001b[1;33m \u001b[0mthislist\u001b[0m\u001b[1;33m[\u001b[0m\u001b[1;36m3\u001b[0m\u001b[1;33m]\u001b[0m\u001b[1;33m=\u001b[0m\u001b[1;34m\"watermelon\"\u001b[0m\u001b[1;33m\u001b[0m\u001b[1;33m\u001b[0m\u001b[0m\n\u001b[0m\u001b[0;32m      2\u001b[0m \u001b[1;33m\u001b[0m\u001b[0m\n\u001b[0;32m      3\u001b[0m \u001b[0mprint\u001b[0m\u001b[1;33m(\u001b[0m\u001b[0mthislist\u001b[0m\u001b[1;33m)\u001b[0m\u001b[1;33m\u001b[0m\u001b[1;33m\u001b[0m\u001b[0m\n",
      "\u001b[1;31mIndexError\u001b[0m: list assignment index out of range"
     ]
    }
   ],
   "source": [
    "thislist[3]=\"watermelon\"\n",
    "\n",
    "print(thislist)"
   ]
  },
  {
   "cell_type": "code",
   "execution_count": 92,
   "id": "38f860a8",
   "metadata": {},
   "outputs": [
    {
     "name": "stdout",
     "output_type": "stream",
     "text": [
      "['apple', 'blackcurrant', 'cherry', 'orange']\n"
     ]
    }
   ],
   "source": [
    "thislist.append(\"orange\")\n",
    "\n",
    "print(thislist)"
   ]
  },
  {
   "cell_type": "code",
   "execution_count": 94,
   "id": "23e1f9b2",
   "metadata": {},
   "outputs": [
    {
     "name": "stdout",
     "output_type": "stream",
     "text": [
      "['apple', 'blackcurrant', 'cherry', 'orange']\n"
     ]
    }
   ],
   "source": [
    "print(thislist)"
   ]
  },
  {
   "cell_type": "code",
   "execution_count": 96,
   "id": "785139b2",
   "metadata": {},
   "outputs": [
    {
     "name": "stdout",
     "output_type": "stream",
     "text": [
      "['apple', 'blackcurrant', 'watermelon', 'cherry', 'orange']\n"
     ]
    }
   ],
   "source": [
    "thislist.insert(2, \"watermelon\")\n",
    "\n",
    "print(thislist)"
   ]
  },
  {
   "cell_type": "code",
   "execution_count": 104,
   "id": "25667548",
   "metadata": {},
   "outputs": [],
   "source": [
    "thislist.sort()"
   ]
  },
  {
   "cell_type": "code",
   "execution_count": 105,
   "id": "135b741f",
   "metadata": {},
   "outputs": [
    {
     "name": "stdout",
     "output_type": "stream",
     "text": [
      "['apple', 'blackcurrant', 'cherry', 'orange', 'watermelon']\n"
     ]
    }
   ],
   "source": [
    "print(thislist)"
   ]
  },
  {
   "cell_type": "code",
   "execution_count": 106,
   "id": "f047fada",
   "metadata": {},
   "outputs": [],
   "source": [
    "thislist.insert(5,\"kiwi\")"
   ]
  },
  {
   "cell_type": "code",
   "execution_count": 107,
   "id": "fcf20127",
   "metadata": {},
   "outputs": [
    {
     "name": "stdout",
     "output_type": "stream",
     "text": [
      "['apple', 'blackcurrant', 'cherry', 'orange', 'watermelon', 'kiwi']\n"
     ]
    }
   ],
   "source": [
    "print(thislist)"
   ]
  },
  {
   "cell_type": "code",
   "execution_count": 108,
   "id": "489cf69e",
   "metadata": {},
   "outputs": [],
   "source": [
    "thislist.insert(8,\"kiwi\")"
   ]
  },
  {
   "cell_type": "code",
   "execution_count": 109,
   "id": "c2193240",
   "metadata": {},
   "outputs": [
    {
     "name": "stdout",
     "output_type": "stream",
     "text": [
      "['apple', 'blackcurrant', 'cherry', 'orange', 'watermelon', 'kiwi', 'kiwi']\n"
     ]
    }
   ],
   "source": [
    "print(thislist)"
   ]
  },
  {
   "cell_type": "code",
   "execution_count": 110,
   "id": "b880d2b5",
   "metadata": {},
   "outputs": [],
   "source": [
    "thislist.insert(7,\"kiwi\")"
   ]
  },
  {
   "cell_type": "code",
   "execution_count": 111,
   "id": "85c3603b",
   "metadata": {},
   "outputs": [],
   "source": [
    "thislist.reverse()"
   ]
  },
  {
   "cell_type": "code",
   "execution_count": 112,
   "id": "17259121",
   "metadata": {},
   "outputs": [
    {
     "name": "stdout",
     "output_type": "stream",
     "text": [
      "['kiwi', 'kiwi', 'kiwi', 'watermelon', 'orange', 'cherry', 'blackcurrant', 'apple']\n"
     ]
    }
   ],
   "source": [
    "print(thislist)"
   ]
  },
  {
   "cell_type": "code",
   "execution_count": 1,
   "id": "8056ed6e",
   "metadata": {},
   "outputs": [
    {
     "name": "stdout",
     "output_type": "stream",
     "text": [
      "('apple', 'banana', 'cherry')\n",
      "1st index in mytuple: cherry\n"
     ]
    }
   ],
   "source": [
    "mytuple = (\"apple\",\"banana\",\"cherry\")\n",
    "\n",
    "print (mytuple)\n",
    "\n",
    "print(\"1st index in mytuple:\", mytuple[2])\n",
    "\n"
   ]
  },
  {
   "cell_type": "code",
   "execution_count": null,
   "id": "7e52e164",
   "metadata": {},
   "outputs": [],
   "source": [
    "tuple_1 = (1,2,4,8)\n"
   ]
  },
  {
   "cell_type": "code",
   "execution_count": 2,
   "id": "3dc4aed2",
   "metadata": {},
   "outputs": [
    {
     "name": "stdout",
     "output_type": "stream",
     "text": [
      "1\n",
      "1000\n",
      "(10, 100, 1000)\n",
      "(1, 10)\n",
      "1\n",
      "10\n",
      "100\n",
      "1000\n"
     ]
    }
   ],
   "source": [
    "my_tuple = (1, 10, 100, 1000)\n",
    "\n",
    "print(my_tuple[0])\n",
    "\n",
    "print(my_tuple[-1])\n",
    "\n",
    "print(my_tuple[1:])\n",
    "\n",
    "print(my_tuple[:-2])\n",
    "\n",
    "for elem in my_tuple:\n",
    "\n",
    "    print(elem)"
   ]
  },
  {
   "cell_type": "code",
   "execution_count": 3,
   "id": "c2b34fc4",
   "metadata": {},
   "outputs": [
    {
     "name": "stdout",
     "output_type": "stream",
     "text": [
      "9\n",
      "(1, 10, 100, 1000, 10000)\n",
      "(1, 10, 100, 1, 10, 100, 1, 10, 100)\n",
      "True\n",
      "True\n"
     ]
    }
   ],
   "source": [
    "my_tuple = (1, 10, 100)\n",
    "\n",
    "t1 = my_tuple + (1000, 10000)\n",
    "t2 = my_tuple * 3\n",
    "print(len(t2))\n",
    "\n",
    "print(t1)\n",
    "\n",
    "print(t2)\n",
    "\n",
    "print(10 in my_tuple)\n",
    "\n",
    "print(-10 not in my_tuple)"
   ]
  },
  {
   "cell_type": "code",
   "execution_count": 5,
   "id": "b155bdd1",
   "metadata": {},
   "outputs": [
    {
     "name": "stdout",
     "output_type": "stream",
     "text": [
      "{'cherry', 'apple', 'banana'}\n"
     ]
    }
   ],
   "source": [
    "myset = {\"apple\", \"banana\", \"cherry\"}\n",
    "print(myset)"
   ]
  },
  {
   "cell_type": "code",
   "execution_count": 6,
   "id": "738dcf0d",
   "metadata": {},
   "outputs": [
    {
     "name": "stdout",
     "output_type": "stream",
     "text": [
      "{'brand': 'Ford', 'model': 'Mustang', 'year': 1964}\n"
     ]
    }
   ],
   "source": [
    "mydict = {\"brand\": \"Ford\", \n",
    "\n",
    "          \"model\": \"Mustang\", \n",
    "\n",
    "          \"year\": 1964}\n",
    "\n",
    "print(mydict)"
   ]
  },
  {
   "cell_type": "code",
   "execution_count": 7,
   "id": "056eec3e",
   "metadata": {},
   "outputs": [
    {
     "name": "stdout",
     "output_type": "stream",
     "text": [
      "Ford\n"
     ]
    }
   ],
   "source": [
    "print(mydict.get(\"brand\"))"
   ]
  },
  {
   "cell_type": "code",
   "execution_count": 11,
   "id": "077baedc",
   "metadata": {},
   "outputs": [
    {
     "name": "stdout",
     "output_type": "stream",
     "text": [
      "None\n"
     ]
    }
   ],
   "source": [
    "print(mydict.get(\"Ford\"))"
   ]
  },
  {
   "cell_type": "code",
   "execution_count": 12,
   "id": "9af70c13",
   "metadata": {},
   "outputs": [
    {
     "name": "stdout",
     "output_type": "stream",
     "text": [
      "{'cat': 'chat', 'dog': 'chicken', 'horse': 'cheval'}\n",
      "{'boss': 5551234567, 'Suzy': 22657854310}\n",
      "{}\n"
     ]
    }
   ],
   "source": [
    "dictionary = {\"cat\": \"chat\", \"dog\": \"chicken\", \"horse\": \"cheval\"}\n",
    "\n",
    "phone_numbers = {'boss': 5551234567, 'Suzy': 22657854310}\n",
    "\n",
    "empty_dictionary = {}\n",
    "\n",
    "print(dictionary)\n",
    "\n",
    "print(phone_numbers)\n",
    "\n",
    "print(empty_dictionary)\n"
   ]
  },
  {
   "cell_type": "code",
   "execution_count": 13,
   "id": "788758e2",
   "metadata": {},
   "outputs": [
    {
     "name": "stdout",
     "output_type": "stream",
     "text": [
      "dict_keys(['cat', 'dog', 'horse'])\n"
     ]
    }
   ],
   "source": [
    "print(dictionary.keys())"
   ]
  },
  {
   "cell_type": "code",
   "execution_count": 14,
   "id": "c93327e8",
   "metadata": {},
   "outputs": [
    {
     "name": "stdout",
     "output_type": "stream",
     "text": [
      "dict_values(['chat', 'chicken', 'cheval'])\n"
     ]
    }
   ],
   "source": [
    "print(dictionary.values())"
   ]
  },
  {
   "cell_type": "code",
   "execution_count": null,
   "id": "c9bec519",
   "metadata": {},
   "outputs": [],
   "source": []
  }
 ],
 "metadata": {
  "kernelspec": {
   "display_name": "Python 3 (ipykernel)",
   "language": "python",
   "name": "python3"
  },
  "language_info": {
   "codemirror_mode": {
    "name": "ipython",
    "version": 3
   },
   "file_extension": ".py",
   "mimetype": "text/x-python",
   "name": "python",
   "nbconvert_exporter": "python",
   "pygments_lexer": "ipython3",
   "version": "3.11.3"
  }
 },
 "nbformat": 4,
 "nbformat_minor": 5
}
